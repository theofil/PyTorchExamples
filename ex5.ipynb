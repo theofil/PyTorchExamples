{
 "cells": [
  {
   "cell_type": "code",
   "execution_count": 21,
   "metadata": {},
   "outputs": [
    {
     "name": "stdout",
     "output_type": "stream",
     "text": [
      "chi2ndf =2.140349\n"
     ]
    },
    {
     "data": {
      "image/png": "[encoded data removed]",
      "text/plain": [
       "<matplotlib.figure.Figure at 0x111f85588>"
      ]
     },
     "metadata": {},
     "output_type": "display_data"
    }
   ],
   "source": [
    "# based on http://pytorch.org/tutorials/beginner/pytorch_with_examples.html#warm-up-numpy\n",
    "# -*- coding: utf-8 -*-\n",
    "import torch\n",
    "from torch.autograd import Variable\n",
    "import matplotlib.pyplot as plt\n",
    "\n",
    "torch.manual_seed(123)\n",
    "\n",
    "\n",
    "# N is batch size; D_in is input dimension;\n",
    "# H is hidden dimension; D_out is output dimension.\n",
    "N, D_in, H, D_out = 8, 1, 100, 1\n",
    "epochs = 1000000\n",
    "\n",
    "# Create random Tensors to hold inputs and outputs, and wrap them in Variables.\n",
    "#x = Variable(torch.Tensor(N,1).uniform_(1,20), requires_grad=False) # input values\n",
    "#y = Variable(torch.randn(N, D_out), requires_grad=False)\n",
    "\n",
    "x = Variable(torch.randn(N, D_in).uniform_(1,20), requires_grad=False)\n",
    "a, b, c  = 1, 2, 1\n",
    "y = a*x**2 + b*x + c # target values\n",
    "\n",
    "# Use the nn package to define our model as a sequence of layers. nn.Sequential\n",
    "# is a Module which contains other Modules, and applies them in sequence to\n",
    "# produce its output. Each Linear Module computes output from input using a\n",
    "# linear function, and holds internal Variables for its weight and bias.\n",
    "model = torch.nn.Sequential(\n",
    "    torch.nn.Linear(D_in, H),\n",
    "    torch.nn.Sigmoid(),\n",
    "    torch.nn.Linear(H, H),\n",
    "    torch.nn.Sigmoid(),\n",
    "    torch.nn.Linear(H, 10),\n",
    "    torch.nn.Sigmoid(),\n",
    "    torch.nn.Linear(10, D_out),\n",
    ")\n",
    "\n",
    "# The nn package also contains definitions of popular loss functions; in this\n",
    "# case we will use Mean Squared Error (MSE) as our loss function.\n",
    "loss_fn = torch.nn.MSELoss(size_average=False)\n",
    "#loss_fn = torch.nn.MSELoss(size_average=False, reduce=False)\n",
    "\n",
    "\n",
    "learning_rate = 1e-6\n",
    "for t in range(epochs):\n",
    "    # Forward pass: compute predicted y by passing x to the model. Module objects\n",
    "    # override the __call__ operator so you can call them like functions. When\n",
    "    # doing so you pass a Variable of input data to the Module and it produces\n",
    "    # a Variable of output data.\n",
    "    y_pred = model(x)\n",
    "\n",
    "    # Compute and print loss. We pass Variables containing the predicted and true\n",
    "    # values of y, and the loss function returns a Variable containing the\n",
    "    # loss.\n",
    "    loss = loss_fn(y_pred, y)\n",
    "    #print(t, loss.data[0])\n",
    "\n",
    "    # Zero the gradients before running the backward pass.\n",
    "    model.zero_grad()\n",
    "\n",
    "    # Backward pass: compute gradient of the loss with respect to all the learnable\n",
    "    # parameters of the model. Internally, the parameters of each Module are stored\n",
    "    # in Variables with requires_grad=True, so this call will compute gradients for\n",
    "    # all learnable parameters in the model.\n",
    "    loss.backward()\n",
    "\n",
    "    # Update the weights using gradient descent. Each parameter is a Variable, so\n",
    "    # we can access its data and gradients like we did before.\n",
    "    for param in model.parameters():\n",
    "        param.data -= learning_rate * param.grad.data\n",
    "\n",
    "\n",
    "print (\"chi2ndf =%f\"%(loss_fn(model(x), y).data[0]/N))\n",
    "plt.subplots()\n",
    "plt.plot(x.data.numpy(), model(x).data.numpy(), 'gs', label='PyTorch', fillstyle='left', markersize=5) \n",
    "plt.plot(x.data.numpy(), y.data.numpy(), 'rs', label='True',fillstyle='none', markersize=8)\n",
    "plt.show()"
   ]
  },
  {
   "cell_type": "code",
   "execution_count": 40,
   "metadata": {},
   "outputs": [
    {
     "data": {
      "image/png": "[encoded data removed]",
      "text/plain": [
       "<matplotlib.figure.Figure at 0x111d3eb38>"
      ]
     },
     "metadata": {},
     "output_type": "display_data"
    }
   ],
   "source": [
    "# now test the output with new data that the network hasn't seen but are within what was trained for (0, 20)\n",
    "x_test = Variable(torch.randn(N, D_in).uniform_(0,20), requires_grad=False)\n",
    "y_test = a*x_test**2 + b*x_test + c # target values\n",
    "plt.subplots()\n",
    "plt.plot(x_test.data.numpy(), model(x_test).data.numpy(), 'gs', label='PyTorch', fillstyle='left', markersize=5) \n",
    "plt.plot(x_test.data.numpy(), y_test.data.numpy(), 'rs', label='True',fillstyle='none', markersize=8)\n",
    "plt.show()"
   ]
  },
  {
   "cell_type": "code",
   "execution_count": 41,
   "metadata": {},
   "outputs": [
    {
     "data": {
      "image/png": "[encoded data removed]",
      "text/plain": [
       "<matplotlib.figure.Figure at 0x11172d898>"
      ]
     },
     "metadata": {},
     "output_type": "display_data"
    }
   ],
   "source": [
    "# now test the output in a range that was not trained for (20, 40)\n",
    "x_test = Variable(torch.randn(N, D_in).uniform_(20,40), requires_grad=False)\n",
    "y_test = a*x_test**2 + b*x_test + c # target values\n",
    "plt.subplots()\n",
    "plt.plot(x_test.data.numpy(), model(x_test).data.numpy(), 'gs', label='PyTorch', fillstyle='left', markersize=5) \n",
    "plt.plot(x_test.data.numpy(), y_test.data.numpy(), 'rs', label='True',fillstyle='none', markersize=8)\n",
    "plt.show()"
   ]
  },
  {
   "cell_type": "code",
   "execution_count": 48,
   "metadata": {},
   "outputs": [
    {
     "data": {
      "image/png": "[encoded data removed]",
      "text/plain": [
       "<matplotlib.figure.Figure at 0x11207d978>"
      ]
     },
     "metadata": {},
     "output_type": "display_data"
    }
   ],
   "source": [
    "# now test the output in wide range (-20, 30)\n",
    "x_test = Variable(torch.randn(60, D_in).uniform_(-20,30), requires_grad=False)\n",
    "y_test = a*x_test**2 + b*x_test + c # target values\n",
    "plt.subplots()\n",
    "plt.plot(x_test.data.numpy(), model(x_test).data.numpy(), 'gs', label='PyTorch', fillstyle='left', markersize=5) \n",
    "plt.plot(x_test.data.numpy(), y_test.data.numpy(), 'rs', label='True',fillstyle='none', markersize=8)\n",
    "plt.show()"
   ]
  },
  {
   "cell_type": "code",
   "execution_count": null,
   "metadata": {},
   "outputs": [],
   "source": []
  }
 ],
 "metadata": {
  "kernelspec": {
   "display_name": "Python 3",
   "language": "python",
   "name": "python3"
  },
  "language_info": {
   "codemirror_mode": {
    "name": "ipython",
    "version": 3
   },
   "file_extension": ".py",
   "mimetype": "text/x-python",
   "name": "python",
   "nbconvert_exporter": "python",
   "pygments_lexer": "ipython3",
   "version": "3.6.4"
  }
 },
 "nbformat": 4,
 "nbformat_minor": 2
}
