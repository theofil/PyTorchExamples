{
 "cells": [
  {
   "cell_type": "code",
   "execution_count": 22,
   "metadata": {},
   "outputs": [
    {
     "data": {
      "text/plain": [
       "<torch._C.Generator at 0x10bc0c250>"
      ]
     },
     "execution_count": 22,
     "metadata": {},
     "output_type": "execute_result"
    }
   ],
   "source": [
    "# based on https://towardsdatascience.com/pytorch-tutorial-distilled-95ce8781a89c\n",
    "# also based on http://pytorch.org/tutorials/beginner/pytorch_with_examples.html#warm-up-numpy\n",
    "import matplotlib.pyplot as plt\n",
    "from __future__ import print_function\n",
    "import torch\n",
    "from torch.autograd import Variable\n",
    "import torch.nn.functional as F\n",
    "import numpy as np\n",
    "\n",
    "torch.manual_seed(12)\n",
    "\n"
   ]
  },
  {
   "cell_type": "code",
   "execution_count": 23,
   "metadata": {},
   "outputs": [],
   "source": [
    "# generate dataset\n",
    "N = 8 # data points\n",
    "lr = 1e-6\n",
    "epochs = 10000\n",
    "x = Variable(torch.Tensor(1,N).uniform_(1,20), requires_grad=False)\n",
    "a, b, c  = 0, 2, 3\n",
    "y = a*x**2 + b*x + c\n",
    "# print(in_data,\"\\n\",out_data)"
   ]
  },
  {
   "cell_type": "code",
   "execution_count": 24,
   "metadata": {},
   "outputs": [],
   "source": [
    "w1 = Variable(torch.randn(1,1), requires_grad=True)\n",
    "w2 = Variable(torch.randn(1,1), requires_grad=True)\n",
    "b1 = Variable(torch.randn(1,1), requires_grad=True)\n",
    "b2 = Variable(torch.randn(1,1), requires_grad=True)\n",
    "\n",
    "\n",
    "for step in range(epochs):\n",
    "    # forward pass\n",
    "    x1 = x\n",
    "    y1 = w1*x1 + b1\n",
    "    \n",
    "    x2 = (y1)\n",
    "    #    x2 = F.sigmoid(y1)\n",
    "    y2 = w2*x2 + b2\n",
    "    \n",
    "    # define loss function and backprop\n",
    "    loss = (y2 - y).pow(2).sum()\n",
    "    loss.backward()\n",
    "    \n",
    "    w1.data -= lr * w1.grad.data\n",
    "    b1.data -= lr * b1.grad.data\n",
    "    w2.data -= lr * w2.grad.data\n",
    "    b2.data -= lr * b2.grad.data\n",
    "    \n",
    "    # zero gradients\n",
    "    w1.grad.data.zero_()\n",
    "    b1.grad.data.zero_()\n",
    "    w2.grad.data.zero_()\n",
    "    b2.grad.data.zero_()\n",
    "\n"
   ]
  },
  {
   "cell_type": "code",
   "execution_count": 25,
   "metadata": {},
   "outputs": [
    {
     "name": "stdout",
     "output_type": "stream",
     "text": [
      " chi2ndf = 0.623468\n"
     ]
    },
    {
     "data": {
      "image/png": "[encoded data removed]",
      "text/plain": [
       "<matplotlib.figure.Figure at 0x1070d8c88>"
      ]
     },
     "metadata": {},
     "output_type": "display_data"
    }
   ],
   "source": [
    "# test what was learned with PyTorch\n",
    "x1 = x\n",
    "y1 = w1*x1 + b1\n",
    "    \n",
    "x2 = y1\n",
    "#x2 = F.sigmoid(y1)\n",
    "y2 = w2*x2 + b2\n",
    "\n",
    "loss = (y2 - y).pow(2).sum()\n",
    "chi2ndf = loss/N\n",
    "\n",
    "\n",
    "print (\" chi2ndf = %f\"%chi2ndf)\n",
    "\n",
    "plt.subplots()\n",
    "plt.plot(x1.data.numpy(), y1.data.numpy(), 'gs', label='PyTorch', fillstyle='left', markersize=5) \n",
    "plt.plot(x.data.numpy(), y.data.numpy(), 'rs', label='True',fillstyle='none', markersize=8)\n",
    "plt.show()\n"
   ]
  },
  {
   "cell_type": "code",
   "execution_count": null,
   "metadata": {},
   "outputs": [],
   "source": []
  },
  {
   "cell_type": "code",
   "execution_count": null,
   "metadata": {},
   "outputs": [],
   "source": []
  }
 ],
 "metadata": {
  "kernelspec": {
   "display_name": "Python 3",
   "language": "python",
   "name": "python3"
  },
  "language_info": {
   "codemirror_mode": {
    "name": "ipython",
    "version": 3
   },
   "file_extension": ".py",
   "mimetype": "text/x-python",
   "name": "python",
   "nbconvert_exporter": "python",
   "pygments_lexer": "ipython3",
   "version": "3.6.4"
  }
 },
 "nbformat": 4,
 "nbformat_minor": 2
}
