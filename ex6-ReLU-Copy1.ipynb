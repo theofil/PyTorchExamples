{
 "cells": [
  {
   "cell_type": "code",
   "execution_count": null,
   "metadata": {},
   "outputs": [],
   "source": [
    "# based on https://github.com/pytorch/examples/blob/master/time_sequence_prediction/train.py\n",
    "# -*- coding: utf-8 -*-\n",
    "import torch\n",
    "from torch.autograd import Variable\n",
    "import matplotlib.pyplot as plt\n",
    "import numpy as np\n",
    "\n",
    "torch.manual_seed(123)\n",
    "\n",
    "\n",
    "# N is batch size; D_in is input dimension;\n",
    "# H is hidden dimension; D_out is output dimension.\n",
    "N, D_in, H, D_out = 50, 1, 100, 1\n",
    "epochs = 5000\n",
    "\n",
    "# Create random Tensors to hold inputs and outputs, and wrap them in Variables.\n",
    "#x = Variable(torch.Tensor(N,1).uniform_(1,20), requires_grad=False) # input values\n",
    "#y = Variable(torch.randn(N, D_out), requires_grad=False)\n",
    "\n",
    "x = Variable(torch.randn(N, D_in).uniform_(-20,20), requires_grad=False)\n",
    "a, b, c  = 1, 2, 1\n",
    "y = a*x**2 + b*x + c # target values\n",
    "y = b*np.exp(a*x) + c\n",
    "\n",
    "# Use the nn package to define our model as a sequence of layers. nn.Sequential\n",
    "# is a Module which contains other Modules, and applies them in sequence to\n",
    "# produce its output. Each Linear Module computes output from input using a\n",
    "# linear function, and holds internal Variables for its weight and bias.\n",
    "model = torch.nn.Sequential(\n",
    "    torch.nn.Linear(D_in, H),\n",
    "    torch.nn.ReLU(),\n",
    "    torch.nn.Linear(H, H),\n",
    "    torch.nn.ReLU(),\n",
    "    torch.nn.Linear(H, H),\n",
    "    torch.nn.ReLU(),\n",
    "   # torch.nn.Linear(H, H),\n",
    "   # torch.nn.ReLU(),\n",
    "   # torch.nn.Linear(H, H),\n",
    "   # torch.nn.ReLU(),\n",
    "   # torch.nn.Linear(H, H),\n",
    "   # torch.nn.ReLU(),\n",
    "   # torch.nn.Linear(H, H),\n",
    "   # torch.nn.ReLU(),\n",
    "   # torch.nn.Linear(H, H),\n",
    "   # torch.nn.ReLU(),\n",
    "   # torch.nn.Linear(H, H),\n",
    "   # torch.nn.ReLU(),\n",
    "   # torch.nn.Linear(H, H),\n",
    "   # torch.nn.ReLU(),\n",
    "  #  torch.nn.Linear(H, H),\n",
    "  #  torch.nn.ReLU(),\n",
    "    torch.nn.Linear(H, D_out),\n",
    ")\n",
    "\n",
    "# The nn package also contains definitions of popular loss functions; in this\n",
    "# case we will use Mean Squared Error (MSE) as our loss function.\n",
    "loss_fn = torch.nn.MSELoss(size_average=False)\n",
    "#loss_fn = torch.nn.MSELoss(size_average=False, reduce=False)\n",
    "\n",
    "\n",
    "for t in range(10*epochs):\n",
    "    # Forward pass: compute predicted y by passing x to the model. Module objects\n",
    "    # override the __call__ operator so you can call them like functions. When\n",
    "    # doing so you pass a Variable of input data to the Module and it produces\n",
    "    # a Variable of output data.\n",
    "    y_pred = model(x)\n",
    "\n",
    "    # Compute and print loss. We pass Variables containing the predicted and true\n",
    "    # values of y, and the loss function returns a Variable containing the\n",
    "    # loss.\n",
    "    loss = loss_fn(y_pred, y)\n",
    "    #print(t, loss.data[0])\n",
    "\n",
    "    # Zero the gradients before running the backward pass.\n",
    "    model.zero_grad()\n",
    "\n",
    "    # Backward pass: compute gradient of the loss with respect to all the learnable\n",
    "    # parameters of the model. Internally, the parameters of each Module are stored\n",
    "    # in Variables with requires_grad=True, so this call will compute gradients for\n",
    "    # all learnable parameters in the model.\n",
    "    loss.backward()\n",
    "\n",
    "    # update learning rate\n",
    "    learning_rate = 1.e-7*np.exp(-t/float(epochs))\n",
    "    \n",
    "    # Update the weights using gradient descent. Each parameter is a Variable, so\n",
    "    # we can access its data and gradients like we did before.\n",
    "    for param in model.parameters():\n",
    "        param.data -= learning_rate * param.grad.data\n",
    "        \n",
    "    #  break \n",
    "    if (loss_fn(model(x), y).data[0]/N) < 5:\n",
    "        break\n",
    "\n",
    "# control figure\n",
    "print (\"chi2ndf =%f\"%(loss_fn(model(x), y).data[0]/N))\n",
    "plt.subplots()\n",
    "plt.plot(x.data.numpy(), model(x).data.numpy(), 'gs', label='PyTorch', fillstyle='left', markersize=5) \n",
    "plt.plot(x.data.numpy(), y.data.numpy(), 'rs', label='True',fillstyle='none', markersize=8)\n",
    "plt.legend()\n",
    "plt.show()\n",
    "\n",
    "# now test the output in wide range (-100, 100)\n",
    "x_test = Variable(torch.randn(60, D_in).uniform_(-30,30), requires_grad=False)\n",
    "y_test = a*x_test**2 + b*x_test + c # target values\n",
    "plt.subplots()\n",
    "plt.plot(x_test.data.numpy(), model(x_test).data.numpy(), 'gs', label='PyTorch', fillstyle='left', markersize=5) \n",
    "plt.plot(x_test.data.numpy(), y_test.data.numpy(), 'rs', label='True',fillstyle='none', markersize=8)\n",
    "plt.show()\n",
    "\n"
   ]
  },
  {
   "cell_type": "code",
   "execution_count": 65,
   "metadata": {},
   "outputs": [
    {
     "data": {
      "image/png": "[encoded data removed]",
      "text/plain": [
       "<Figure size 432x288 with 1 Axes>"
      ]
     },
     "metadata": {},
     "output_type": "display_data"
    }
   ],
   "source": [
    "# now test the output with new data that the network hasn't seen but are within what was trained for (0, 20)\n",
    "x_test = Variable(torch.randn(N, D_in).uniform_(0,20), requires_grad=False)\n",
    "y_test = a*x_test**2 + b*x_test + c # target values\n",
    "plt.subplots()\n",
    "plt.plot(x_test.data.numpy(), model(x_test).data.numpy(), 'gs', label='PyTorch', fillstyle='left', markersize=5) \n",
    "plt.plot(x_test.data.numpy(), y_test.data.numpy(), 'rs', label='True',fillstyle='none', markersize=8)\n",
    "plt.show()"
   ]
  },
  {
   "cell_type": "code",
   "execution_count": 59,
   "metadata": {},
   "outputs": [
    {
     "data": {
      "image/png": "[encoded data removed]",
      "text/plain": [
       "<Figure size 432x288 with 1 Axes>"
      ]
     },
     "metadata": {},
     "output_type": "display_data"
    }
   ],
   "source": [
    "# now test the output in a range that was not trained for (20, 40)\n",
    "x_test = Variable(torch.randn(N, D_in).uniform_(20,40), requires_grad=False)\n",
    "y_test = a*x_test**2 + b*x_test + c # target values\n",
    "plt.subplots()\n",
    "plt.plot(x_test.data.numpy(), model(x_test).data.numpy(), 'gs', label='PyTorch', fillstyle='left', markersize=5) \n",
    "plt.plot(x_test.data.numpy(), y_test.data.numpy(), 'rs', label='True',fillstyle='none', markersize=8)\n",
    "plt.show()"
   ]
  },
  {
   "cell_type": "code",
   "execution_count": 60,
   "metadata": {
    "scrolled": true
   },
   "outputs": [
    {
     "data": {
      "image/png": "[encoded data removed]",
      "text/plain": [
       "<Figure size 432x288 with 1 Axes>"
      ]
     },
     "metadata": {},
     "output_type": "display_data"
    }
   ],
   "source": []
  },
  {
   "cell_type": "code",
   "execution_count": 37,
   "metadata": {},
   "outputs": [
    {
     "name": "stdout",
     "output_type": "stream",
     "text": [
      "Parameter containing:\n",
      "tensor([[-0.7661],\n",
      "        [ 0.1941],\n",
      "        [ 0.4233],\n",
      "        [ 0.9783],\n",
      "        [-0.3113],\n",
      "        [ 0.3689],\n",
      "        [ 1.2434],\n",
      "        [-0.4290],\n",
      "        [ 1.1992],\n",
      "        [-0.4965],\n",
      "        [ 0.4836],\n",
      "        [ 0.4458],\n",
      "        [ 0.3155],\n",
      "        [ 0.9132],\n",
      "        [-0.4042],\n",
      "        [ 0.2450],\n",
      "        [ 0.0056],\n",
      "        [-0.7521],\n",
      "        [-0.2428],\n",
      "        [-0.6678],\n",
      "        [ 0.5041],\n",
      "        [ 0.0604],\n",
      "        [ 0.3778],\n",
      "        [-0.3040],\n",
      "        [ 0.0472],\n",
      "        [-0.3110],\n",
      "        [ 0.3151],\n",
      "        [ 1.0658],\n",
      "        [ 0.1805],\n",
      "        [-0.4436],\n",
      "        [-0.6108],\n",
      "        [ 0.2002],\n",
      "        [-0.7418],\n",
      "        [-0.7517],\n",
      "        [-0.6509],\n",
      "        [-0.3396],\n",
      "        [ 0.2308],\n",
      "        [ 0.6719],\n",
      "        [ 0.4338],\n",
      "        [ 0.9335],\n",
      "        [-0.6279],\n",
      "        [ 0.2994],\n",
      "        [-0.8889],\n",
      "        [ 0.7583],\n",
      "        [ 0.3377],\n",
      "        [ 1.1734],\n",
      "        [-0.7112],\n",
      "        [ 1.0278],\n",
      "        [ 1.0386],\n",
      "        [ 1.0491],\n",
      "        [ 0.2356],\n",
      "        [ 1.0964],\n",
      "        [ 0.8695],\n",
      "        [ 0.8035],\n",
      "        [-0.0650],\n",
      "        [-0.7674],\n",
      "        [ 0.0721],\n",
      "        [ 0.2310],\n",
      "        [-0.6812],\n",
      "        [-0.5736],\n",
      "        [-0.9587],\n",
      "        [-0.3505],\n",
      "        [ 0.8706],\n",
      "        [ 0.3494],\n",
      "        [ 0.0033],\n",
      "        [ 0.0402],\n",
      "        [ 0.8524],\n",
      "        [-0.8831],\n",
      "        [-0.7716],\n",
      "        [-0.3335],\n",
      "        [-0.5755],\n",
      "        [ 0.5170],\n",
      "        [ 0.7250],\n",
      "        [-0.9702],\n",
      "        [-0.8487],\n",
      "        [-0.9738],\n",
      "        [ 0.4823],\n",
      "        [ 0.9015],\n",
      "        [-0.7753],\n",
      "        [-0.4630],\n",
      "        [ 0.2887],\n",
      "        [-0.6530],\n",
      "        [ 1.0040],\n",
      "        [ 0.2633],\n",
      "        [-0.2784],\n",
      "        [ 0.0669],\n",
      "        [ 0.3898],\n",
      "        [-0.3536],\n",
      "        [-0.7749],\n",
      "        [ 0.0445],\n",
      "        [ 0.0848],\n",
      "        [ 0.0202],\n",
      "        [-0.1459],\n",
      "        [ 0.8419],\n",
      "        [-0.2791],\n",
      "        [-0.1056],\n",
      "        [ 0.3908],\n",
      "        [-0.6305],\n",
      "        [ 0.2311],\n",
      "        [-0.2211]])\n",
      "Parameter containing:\n",
      "tensor([ 0.4797, -0.8773, -0.4026, -0.7766, -0.8046, -1.5418, -0.6349,\n",
      "        -0.2911, -0.2045, -0.9879, -1.4271, -1.8496,  0.4621, -0.9682,\n",
      "        -0.1865, -0.4958, -0.7816,  0.2836,  0.0249, -0.6901,  0.2283,\n",
      "        -0.0362, -1.7320,  0.5374,  0.9197, -0.1884, -1.3726, -0.9072,\n",
      "         1.2607,  0.9148, -0.7548, -0.8966,  0.7786,  0.4888,  0.6190,\n",
      "        -0.4977,  1.2137, -2.1014, -0.5064, -0.9634,  0.1680, -1.3741,\n",
      "         0.9175,  0.9909, -1.4984, -1.1832, -0.5327,  0.6672, -0.0589,\n",
      "        -0.0844,  0.2816, -1.3562,  0.0704, -0.6862, -0.3647,  0.5163,\n",
      "         0.4054, -0.7613, -0.2741, -0.8843, -0.2741, -0.4051, -1.7806,\n",
      "        -1.5947,  1.1003, -0.8937,  0.8632, -0.5245, -0.0769,  0.8149,\n",
      "         0.3299, -0.9846, -2.1801, -0.4089,  0.8053, -0.3776,  1.0511,\n",
      "        -1.2096, -0.1275,  0.3991, -0.4709, -0.0084,  0.2936,  0.3873,\n",
      "        -0.0398,  0.6763,  1.2401,  0.2520, -0.2933,  0.5316, -0.3362,\n",
      "        -0.7818, -0.3861, -0.1130,  0.0328,  0.3658, -1.3756,  0.9445,\n",
      "        -0.8870,  0.2133])\n",
      "Parameter containing:\n",
      "tensor([[-0.0489,  0.7090,  0.4939,  0.9592, -0.0634,  1.3675,  0.9739,\n",
      "          0.0602,  0.5986, -0.0853,  1.3625,  1.6746, -0.3035,  1.1085,\n",
      "          0.0200,  0.4692, -0.0422,  0.0816, -0.0081, -0.0011, -0.0452,\n",
      "          0.0252,  1.4852,  0.0350, -0.7501,  0.0609,  1.1976,  1.0716,\n",
      "         -1.0218,  0.0357, -0.0390,  0.7987,  0.0854,  0.0329,  0.0859,\n",
      "         -0.0230, -0.8877,  1.9428,  0.5588,  1.1380, -0.0518,  1.1861,\n",
      "          0.0245, -0.5634,  1.3599,  1.4039, -0.0411, -0.2003,  0.4036,\n",
      "          0.4577, -0.1295,  1.5231,  0.2606,  0.8008,  0.0664, -0.0266,\n",
      "         -0.2767,  0.7335, -0.0585, -0.0105,  0.0149,  0.0286,  1.7246,\n",
      "          1.3500, -0.7723,  0.0565, -0.4047,  0.0158, -0.0959,  0.0604,\n",
      "         -0.0787,  0.9621,  2.0468,  0.0304,  0.0581, -0.0140, -0.7269,\n",
      "          1.2974,  0.0328, -0.0563,  0.4491,  0.0477,  0.0681, -0.2547,\n",
      "          0.0830, -0.5636, -0.9267,  0.0760, -0.0477, -0.4212,  0.3476,\n",
      "         -0.0399,  0.0931,  0.4104,  0.0772,  0.0197,  1.2466,  0.0607,\n",
      "          0.7787, -0.0583]])\n",
      "Parameter containing:\n",
      "tensor([-1.1594])\n"
     ]
    }
   ],
   "source": [
    "# print network\n",
    "for param in model.parameters():\n",
    "    print (param)"
   ]
  },
  {
   "cell_type": "code",
   "execution_count": 62,
   "metadata": {},
   "outputs": [
    {
     "data": {
      "image/png": "[encoded data removed]",
      "text/plain": [
       "<Figure size 432x288 with 1 Axes>"
      ]
     },
     "metadata": {},
     "output_type": "display_data"
    }
   ],
   "source": [
    "# now test the output in wide range (-20, 30)\n",
    "x_test = Variable(torch.randn(60, D_in).uniform_(-20,30), requires_grad=False)\n",
    "y_test = a*x_test**2 + b*x_test + c # target values\n",
    "plt.subplots()\n",
    "plt.plot(x_test.data.numpy(), model(x_test).data.numpy(), 'gs', label='PyTorch', fillstyle='left', markersize=5) \n",
    "plt.plot(x_test.data.numpy(), y_test.data.numpy(), 'rs', label='True',fillstyle='none', markersize=8)\n",
    "plt.show()\n",
    "\n"
   ]
  },
  {
   "cell_type": "code",
   "execution_count": 70,
   "metadata": {},
   "outputs": [
    {
     "data": {
      "image/png": "[encoded data removed]",
      "text/plain": [
       "<Figure size 432x288 with 1 Axes>"
      ]
     },
     "metadata": {},
     "output_type": "display_data"
    }
   ],
   "source": [
    "x_test = Variable(torch.randn(60, D_in).uniform_(-30,30), requires_grad=False)\n",
    "y_test = a*x_test**2 + b*x_test + c # target values\n",
    "plt.subplots()\n",
    "plt.plot(x_test.data.numpy(), model(x_test).data.numpy(), 'gs', label='PyTorch', fillstyle='left', markersize=5) \n",
    "plt.plot(x_test.data.numpy(), y_test.data.numpy(), 'rs', label='True',fillstyle='none', markersize=8)\n",
    "plt.show()"
   ]
  },
  {
   "cell_type": "code",
   "execution_count": null,
   "metadata": {},
   "outputs": [],
   "source": []
  }
 ],
 "metadata": {
  "kernelspec": {
   "display_name": "Python 3",
   "language": "python",
   "name": "python3"
  },
  "language_info": {
   "codemirror_mode": {
    "name": "ipython",
    "version": 3
   },
   "file_extension": ".py",
   "mimetype": "text/x-python",
   "name": "python",
   "nbconvert_exporter": "python",
   "pygments_lexer": "ipython3",
   "version": "3.6.5"
  }
 },
 "nbformat": 4,
 "nbformat_minor": 2
}
