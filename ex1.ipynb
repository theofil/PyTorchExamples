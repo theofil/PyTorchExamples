{
 "cells": [
  {
   "cell_type": "code",
   "execution_count": 1,
   "metadata": {},
   "outputs": [],
   "source": [
    "# based on https://towardsdatascience.com/pytorch-tutorial-distilled-95ce8781a89c\n",
    "# also based on http://pytorch.org/tutorials/beginner/pytorch_with_examples.html#warm-up-numpy\n",
    "import matplotlib.pyplot as plt\n",
    "from __future__ import print_function\n",
    "import torch\n",
    "from torch.autograd import Variable\n",
    "import torch.nn.functional as F\n",
    "import numpy as np\n",
    "\n",
    "torch.manual_seed(12)\n",
    "np.random.seed(12)\n",
    "\n"
   ]
  },
  {
   "cell_type": "code",
   "execution_count": 2,
   "metadata": {},
   "outputs": [],
   "source": [
    "# generate dataset\n",
    "N = 8 # data points\n",
    "lr = 1e-6\n",
    "epochs = 10000\n",
    "x = Variable(torch.Tensor(1,N).uniform_(1,20), requires_grad=False)\n",
    "a, b, c  = 0, 2, 3\n",
    "y = a*x**2 + b*x + c\n",
    "# print(in_data,\"\\n\",out_data)"
   ]
  },
  {
   "cell_type": "code",
   "execution_count": 3,
   "metadata": {},
   "outputs": [],
   "source": [
    "w1 = Variable(torch.randn(1,1), requires_grad=True)\n",
    "#w2 = Variable(torch.randn(1,1), requires_grad=True)\n",
    "b1 = Variable(torch.randn(1,1), requires_grad=True)\n",
    "#b2 = Variable(torch.randn(1,1), requires_grad=True)\n",
    "\n",
    "\n",
    "for step in range(epochs):\n",
    "    # forward pass\n",
    "    x1 = x\n",
    "    y1 = w1*x1 + b1\n",
    "    \n",
    "    # define loss function and backprop\n",
    "    loss = (y1 - y).pow(2).sum()\n",
    "    loss.backward()\n",
    "    w1.data -= lr * w1.grad.data\n",
    "    b1.data -= lr * b1.grad.data\n",
    "\n",
    "    # zero gradients\n",
    "    w1.grad.data.zero_()\n",
    "    b1.grad.data.zero_()\n",
    "\n",
    "\n"
   ]
  },
  {
   "cell_type": "code",
   "execution_count": 4,
   "metadata": {},
   "outputs": [],
   "source": [
    "# make my own numpy implementation\n",
    "x_np = np.array(x.data.numpy()).T\n",
    "w_np = np.random.randn(2,1)\n",
    "\n",
    "# output dataset            \n",
    "y_np = a*x_np**2 + b*x_np + c\n",
    "x_np = np.insert(x_np, 1, 1, axis = 1) ### insert bias voltage of 1\n",
    "w_np = np.random.randn(2,1)\n",
    "\n",
    "for step in range(epochs):\n",
    "    # forward propagation\n",
    "    x1_np = x_np\n",
    "    y1_np = x1_np.dot(w_np)   \n",
    "\n",
    "    #update weights\n",
    "    grad = -(y_np-y1_np)*y1_np\n",
    "    \n",
    "    dw_np = -lr*np.dot(x_np.T,grad)\n",
    "    w_np += dw_np # needs += for b>0 and -= for b<0 in the polynomial"
   ]
  },
  {
   "cell_type": "code",
   "execution_count": 5,
   "metadata": {},
   "outputs": [
    {
     "name": "stdout",
     "output_type": "stream",
     "text": [
      "chi2ndf_np = 2.086339 chi2ndf = 1.829520\n"
     ]
    },
    {
     "data": {
      "image/png": "[encoded data removed]",
      "text/plain": [
       "<matplotlib.figure.Figure at 0x11a70fbe0>"
      ]
     },
     "metadata": {},
     "output_type": "display_data"
    }
   ],
   "source": [
    "# test what was learned with PyTorch\n",
    "x1 = x\n",
    "y1 = w1*x1 + b1\n",
    "\n",
    "loss = (y1 - y).pow(2).sum()\n",
    "chi2ndf = loss/N\n",
    "\n",
    "# check what was learned with Python\n",
    "x1_np = x_np\n",
    "y1_np = x1_np.dot(w_np)\n",
    "\n",
    "loss_np = ((y1_np - y_np)**2).sum()\n",
    "chi2ndf_np = loss_np/N\n",
    "\n",
    "print (\"chi2ndf_np = %f\"%chi2ndf_np+\" chi2ndf = %f\"%chi2ndf)\n",
    "\n",
    "plt.subplots()\n",
    "plt.plot(x1.data.numpy(), y1.data.numpy(), 'gs', label='PyTorch', fillstyle='left', markersize=5) \n",
    "plt.plot(x1_np[:,0], y1_np, 'bs',label='Numpy', fillstyle='right', markersize=5) \n",
    "plt.plot(x.data.numpy(), y.data.numpy(), 'rs', label='True',fillstyle='none', markersize=8)\n",
    "plt.show()\n"
   ]
  },
  {
   "cell_type": "code",
   "execution_count": 63,
   "metadata": {},
   "outputs": [
    {
     "data": {
      "text/plain": [
       "array([[27.154125],\n",
       "       [29.009487],\n",
       "       [26.12367 ],\n",
       "       [ 9.797459],\n",
       "       [42.203094],\n",
       "       [37.082096],\n",
       "       [ 9.772301],\n",
       "       [21.93364 ]], dtype=float32)"
      ]
     },
     "execution_count": 63,
     "metadata": {},
     "output_type": "execute_result"
    }
   ],
   "source": [
    "y_np"
   ]
  },
  {
   "cell_type": "code",
   "execution_count": null,
   "metadata": {},
   "outputs": [],
   "source": []
  }
 ],
 "metadata": {
  "kernelspec": {
   "display_name": "Python 3",
   "language": "python",
   "name": "python3"
  },
  "language_info": {
   "codemirror_mode": {
    "name": "ipython",
    "version": 3
   },
   "file_extension": ".py",
   "mimetype": "text/x-python",
   "name": "python",
   "nbconvert_exporter": "python",
   "pygments_lexer": "ipython3",
   "version": "3.6.4"
  }
 },
 "nbformat": 4,
 "nbformat_minor": 2
}
