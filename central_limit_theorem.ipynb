{
 "cells": [
  {
   "cell_type": "code",
   "execution_count": 158,
   "metadata": {},
   "outputs": [],
   "source": [
    "import numpy as np"
   ]
  },
  {
   "cell_type": "code",
   "execution_count": 159,
   "metadata": {},
   "outputs": [],
   "source": [
    "# Create your random number generator (as an instance of a numpy random state, initialized with specific seed) \n",
    "randomSeed = 101331\n",
    "rng = np.random.RandomState(randomSeed) # rundom number generator"
   ]
  },
  {
   "cell_type": "code",
   "execution_count": 160,
   "metadata": {},
   "outputs": [
    {
     "name": "stdout",
     "output_type": "stream",
     "text": [
      "oneRN =  [0.99356353]\n",
      "arrayOfTen =  [0.0921232  0.88315786 0.2074881  0.18042575 0.22493002 0.0852306\n",
      " 0.59471479 0.64386196 0.44428619 0.54440179]\n"
     ]
    }
   ],
   "source": [
    "# Return random floats in the half-open interval [0.0, 1.0)\n",
    "# random_sample([size])\n",
    "# RN = Random Number\n",
    "oneRN = rng.rand(1) \n",
    "arrayOfTen = rs.rand(10)\n",
    "print('oneRN = ', oneRN)\n",
    "print('arrayOfTen = ', arrayOfTen)"
   ]
  },
  {
   "cell_type": "code",
   "execution_count": 161,
   "metadata": {},
   "outputs": [],
   "source": [
    "# Generate 10000 events, of random variables X_N with\n",
    "# x_N = (s_1 + s_2 + s_3+ ... s_N)/N\n",
    "# N = 1, 5, 10, 20, 50\n",
    "# and each of s_i = s_1, s_2, s_3 ... s_N being independent and identically distributed floats in the half-open interval [0.0, 1.0)  \n",
    "# create empty lists, which will store the X_N for each of the 10000 events\n",
    "listOfX_1    = []\n",
    "listOfX_5    = []\n",
    "listOfX_10   = []\n",
    "listOfX_20   = []\n",
    "listOfX_50   = []\n",
    "for event in range(10000):\n",
    "    for N in [1,5,10,20,50]:\n",
    "        X_N = sum(rs.rand(N))/float(N)\n",
    "        \n",
    "        if N == 1 : listOfX_1.append(X_N)\n",
    "        if N == 5 : listOfX_5.append(X_N)\n",
    "        if N == 10: listOfX_10.append(X_N)\n",
    "        if N == 20: listOfX_20.append(X_N)\n",
    "        if N == 50: listOfX_50.append(X_N)\n",
    "\n",
    "         \n",
    "    "
   ]
  },
  {
   "cell_type": "code",
   "execution_count": 162,
   "metadata": {},
   "outputs": [],
   "source": [
    "# Visualization "
   ]
  },
  {
   "cell_type": "code",
   "execution_count": 163,
   "metadata": {},
   "outputs": [],
   "source": [
    "import matplotlib.pyplot as plt"
   ]
  },
  {
   "cell_type": "code",
   "execution_count": 164,
   "metadata": {},
   "outputs": [
    {
     "data": {
      "image/png": "[encoded data removed]",
      "text/plain": [
       "<Figure size 432x288 with 1 Axes>"
      ]
     },
     "metadata": {},
     "output_type": "display_data"
    }
   ],
   "source": [
    "fig, ax = plt.subplots()\n",
    "n, bins, patches  = ax.hist(listOfX_1, 100, density = 1)\n"
   ]
  },
  {
   "cell_type": "code",
   "execution_count": 165,
   "metadata": {},
   "outputs": [
    {
     "data": {
      "image/png": "[encoded data removed]",
      "text/plain": [
       "<Figure size 432x288 with 4 Axes>"
      ]
     },
     "metadata": {},
     "output_type": "display_data"
    }
   ],
   "source": [
    "multfig, axes = plt.subplots(2,2)\n",
    "n5 , bins5 , patches5   = axes[0][0].hist(listOfX_5, 100, density = 1)\n",
    "n10, bins10, patches10  = axes[0][1].hist(listOfX_10, 100, density = 1)\n",
    "n20, bins20, patches20  = axes[1][0].hist(listOfX_20, 100, density = 1)\n",
    "n50, bins50, patches50  = axes[1][1].hist(listOfX_50, 100, density = 1)\n",
    "\n"
   ]
  }
 ],
 "metadata": {
  "kernelspec": {
   "display_name": "Python 3",
   "language": "python",
   "name": "python3"
  },
  "language_info": {
   "codemirror_mode": {
    "name": "ipython",
    "version": 3
   },
   "file_extension": ".py",
   "mimetype": "text/x-python",
   "name": "python",
   "nbconvert_exporter": "python",
   "pygments_lexer": "ipython3",
   "version": "3.6.5"
  }
 },
 "nbformat": 4,
 "nbformat_minor": 2
}
