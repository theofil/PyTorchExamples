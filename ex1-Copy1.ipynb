{
 "cells": [
  {
   "cell_type": "code",
   "execution_count": 161,
   "metadata": {},
   "outputs": [],
   "source": [
    "# based on https://towardsdatascience.com/pytorch-tutorial-distilled-95ce8781a89c\n",
    "# also based on http://pytorch.org/tutorials/beginner/pytorch_with_examples.html#warm-up-numpy\n",
    "import matplotlib.pyplot as plt\n",
    "from __future__ import print_function\n",
    "import torch\n",
    "from torch.autograd import Variable\n",
    "import torch.nn.functional as F\n",
    "import numpy as np\n",
    "\n",
    "torch.manual_seed(123)\n",
    "np.random.seed(123)\n",
    "\n"
   ]
  },
  {
   "cell_type": "code",
   "execution_count": 171,
   "metadata": {},
   "outputs": [],
   "source": [
    "# generate dataset\n",
    "N = 100 # data points\n",
    "lr = 1e-5\n",
    "epochs = 10000\n",
    "x = Variable(torch.Tensor(N,1).uniform_(1,20), requires_grad=False)\n",
    "a, b, c  = 0, 2, 3\n",
    "y = a*x**2 + b*x + c"
   ]
  },
  {
   "cell_type": "code",
   "execution_count": 172,
   "metadata": {},
   "outputs": [
    {
     "name": "stdout",
     "output_type": "stream",
     "text": [
      "loss = 39594.488281\n",
      "loss = 179.243515\n",
      "loss = 163.604889\n",
      "loss = 149.330750\n",
      "loss = 136.302078\n",
      "loss = 124.410057\n",
      "loss = 113.555664\n",
      "loss = 103.648300\n",
      "loss = 94.605141\n",
      "loss = 86.351120\n",
      "loss = 78.817223\n",
      "loss = 71.940620\n",
      "loss = 65.664070\n",
      "loss = 59.935024\n",
      "loss = 54.705860\n",
      "loss = 49.932941\n",
      "loss = 45.576420\n",
      "loss = 41.599957\n",
      "loss = 37.970539\n",
      "loss = 34.657684\n",
      "loss = 31.633907\n",
      "loss = 28.873856\n",
      "loss = 26.354712\n",
      "loss = 24.055353\n",
      "loss = 21.956560\n",
      "loss = 20.040924\n",
      "loss = 18.292406\n",
      "loss = 16.696451\n",
      "loss = 15.239714\n",
      "loss = 13.910125\n",
      "loss = 12.696531\n",
      "loss = 11.588774\n",
      "loss = 10.577702\n",
      "loss = 9.654826\n",
      "loss = 8.812478\n",
      "loss = 8.043601\n",
      "loss = 7.341899\n",
      "loss = 6.701317\n",
      "loss = 6.116655\n",
      "loss = 5.583000\n",
      "loss = 5.095881\n",
      "loss = 4.651273\n",
      "loss = 4.245466\n",
      "loss = 3.875067\n",
      "loss = 3.536989\n",
      "loss = 3.228415\n",
      "loss = 2.946720\n",
      "loss = 2.689639\n",
      "loss = 2.454978\n",
      "loss = 2.240791\n",
      "loss = 2.045294\n",
      "loss = 1.866855\n",
      "loss = 1.703969\n",
      "loss = 1.555310\n",
      "loss = 1.419618\n",
      "loss = 1.295759\n",
      "loss = 1.182718\n",
      "loss = 1.079530\n",
      "loss = 0.985339\n",
      "loss = 0.899369\n",
      "loss = 0.820914\n",
      "loss = 0.749294\n",
      "loss = 0.683914\n",
      "loss = 0.624246\n",
      "loss = 0.569790\n",
      "loss = 0.520076\n",
      "loss = 0.474702\n",
      "loss = 0.433288\n",
      "loss = 0.395487\n",
      "loss = 0.360984\n",
      "loss = 0.329492\n",
      "loss = 0.300744\n",
      "loss = 0.274504\n",
      "loss = 0.250555\n",
      "loss = 0.228694\n",
      "loss = 0.208742\n",
      "loss = 0.190526\n",
      "loss = 0.173905\n",
      "loss = 0.158733\n",
      "loss = 0.144883\n",
      "loss = 0.132245\n",
      "loss = 0.120704\n",
      "loss = 0.110177\n",
      "loss = 0.100563\n",
      "loss = 0.091790\n",
      "loss = 0.083783\n",
      "loss = 0.076470\n",
      "loss = 0.069798\n",
      "loss = 0.063712\n",
      "loss = 0.058152\n",
      "loss = 0.053080\n",
      "loss = 0.048448\n",
      "loss = 0.044224\n",
      "loss = 0.040364\n",
      "loss = 0.036844\n",
      "loss = 0.033627\n",
      "loss = 0.030694\n",
      "loss = 0.028018\n",
      "loss = 0.025574\n",
      "loss = 0.023342\n"
     ]
    }
   ],
   "source": [
    "w1 = Variable(torch.randn(1,1), requires_grad=True)\n",
    "#w2 = Variable(torch.randn(1,1), requires_grad=True)\n",
    "b1 = Variable(torch.randn(1,1), requires_grad=True)\n",
    "#b2 = Variable(torch.randn(1,1), requires_grad=True)\n",
    "\n",
    "\n",
    "for step in range(epochs):\n",
    "    # forward pass\n",
    "    x1 = x\n",
    "    y1 = w1*x1 + b1\n",
    "    \n",
    "    # define loss function and backprop\n",
    "    loss = (y1 - y).pow(2).sum()\n",
    "    if step%100 == 0: print(\"loss = {0:f}\".format(float(loss)))\n",
    "    loss.backward()\n",
    "    w1.data -= lr * w1.grad.data\n",
    "    b1.data -= lr * b1.grad.data\n",
    "\n",
    "    # zero gradients\n",
    "    w1.grad.data.zero_()\n",
    "    b1.grad.data.zero_()\n",
    "\n",
    "\n"
   ]
  },
  {
   "cell_type": "code",
   "execution_count": 173,
   "metadata": {},
   "outputs": [
    {
     "name": "stdout",
     "output_type": "stream",
     "text": [
      " chi2ndf = 0.000213\n"
     ]
    },
    {
     "data": {
      "image/png": "[encoded data removed]",
      "text/plain": [
       "<matplotlib.figure.Figure at 0x112071ac8>"
      ]
     },
     "metadata": {},
     "output_type": "display_data"
    }
   ],
   "source": [
    "# test what was learned with PyTorch\n",
    "x1 = x\n",
    "y1 = w1*x1 + b1\n",
    "\n",
    "loss = (y1 - y).pow(2).sum()\n",
    "chi2ndf = loss/N\n",
    "\n",
    "print (\" chi2ndf = %f\"%chi2ndf)\n",
    "\n",
    "plt.subplots()\n",
    "plt.plot(x1.data.numpy(), y1.data.numpy(), 'gs', label='PyTorch', fillstyle='left', markersize=5) \n",
    "plt.plot(x.data.numpy(), y.data.numpy(), 'rs', label='True',fillstyle='none', markersize=8)\n",
    "plt.legend()\n",
    "plt.show()\n"
   ]
  },
  {
   "cell_type": "code",
   "execution_count": null,
   "metadata": {},
   "outputs": [],
   "source": []
  },
  {
   "cell_type": "code",
   "execution_count": null,
   "metadata": {},
   "outputs": [],
   "source": []
  }
 ],
 "metadata": {
  "kernelspec": {
   "display_name": "Python 3",
   "language": "python",
   "name": "python3"
  },
  "language_info": {
   "codemirror_mode": {
    "name": "ipython",
    "version": 3
   },
   "file_extension": ".py",
   "mimetype": "text/x-python",
   "name": "python",
   "nbconvert_exporter": "python",
   "pygments_lexer": "ipython3",
   "version": "3.6.4"
  }
 },
 "nbformat": 4,
 "nbformat_minor": 2
}
